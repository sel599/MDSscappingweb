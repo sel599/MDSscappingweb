{
 "cells": [
  {
   "cell_type": "code",
   "execution_count": 4,
   "metadata": {},
   "outputs": [
    {
     "name": "stdout",
     "output_type": "stream",
     "text": [
      "Requirement already satisfied: selenium in c:\\users\\sely.wakhidah\\appdata\\local\\anaconda3\\lib\\site-packages (4.32.0)\n",
      "Requirement already satisfied: urllib3[socks]<3,>=1.26 in c:\\users\\sely.wakhidah\\appdata\\local\\anaconda3\\lib\\site-packages (from selenium) (1.26.16)\n",
      "Requirement already satisfied: trio~=0.17 in c:\\users\\sely.wakhidah\\appdata\\local\\anaconda3\\lib\\site-packages (from selenium) (0.30.0)\n",
      "Requirement already satisfied: trio-websocket~=0.9 in c:\\users\\sely.wakhidah\\appdata\\local\\anaconda3\\lib\\site-packages (from selenium) (0.12.2)\n",
      "Requirement already satisfied: certifi>=2021.10.8 in c:\\users\\sely.wakhidah\\appdata\\local\\anaconda3\\lib\\site-packages (from selenium) (2023.7.22)\n",
      "Requirement already satisfied: typing_extensions~=4.9 in c:\\users\\sely.wakhidah\\appdata\\local\\anaconda3\\lib\\site-packages (from selenium) (4.13.2)\n",
      "Requirement already satisfied: websocket-client~=1.8 in c:\\users\\sely.wakhidah\\appdata\\local\\anaconda3\\lib\\site-packages (from selenium) (1.8.0)\n",
      "Requirement already satisfied: attrs>=23.2.0 in c:\\users\\sely.wakhidah\\appdata\\local\\anaconda3\\lib\\site-packages (from trio~=0.17->selenium) (25.3.0)\n",
      "Requirement already satisfied: sortedcontainers in c:\\users\\sely.wakhidah\\appdata\\local\\anaconda3\\lib\\site-packages (from trio~=0.17->selenium) (2.4.0)\n",
      "Requirement already satisfied: idna in c:\\users\\sely.wakhidah\\appdata\\local\\anaconda3\\lib\\site-packages (from trio~=0.17->selenium) (3.4)\n",
      "Requirement already satisfied: outcome in c:\\users\\sely.wakhidah\\appdata\\local\\anaconda3\\lib\\site-packages (from trio~=0.17->selenium) (1.3.0.post0)\n",
      "Requirement already satisfied: sniffio>=1.3.0 in c:\\users\\sely.wakhidah\\appdata\\local\\anaconda3\\lib\\site-packages (from trio~=0.17->selenium) (1.3.1)\n",
      "Requirement already satisfied: cffi>=1.14 in c:\\users\\sely.wakhidah\\appdata\\local\\anaconda3\\lib\\site-packages (from trio~=0.17->selenium) (1.15.1)\n",
      "Requirement already satisfied: wsproto>=0.14 in c:\\users\\sely.wakhidah\\appdata\\local\\anaconda3\\lib\\site-packages (from trio-websocket~=0.9->selenium) (1.2.0)\n",
      "Requirement already satisfied: PySocks!=1.5.7,<2.0,>=1.5.6 in c:\\users\\sely.wakhidah\\appdata\\local\\anaconda3\\lib\\site-packages (from urllib3[socks]<3,>=1.26->selenium) (1.7.1)\n",
      "Requirement already satisfied: pycparser in c:\\users\\sely.wakhidah\\appdata\\local\\anaconda3\\lib\\site-packages (from cffi>=1.14->trio~=0.17->selenium) (2.21)\n",
      "Requirement already satisfied: h11<1,>=0.9.0 in c:\\users\\sely.wakhidah\\appdata\\local\\anaconda3\\lib\\site-packages (from wsproto>=0.14->trio-websocket~=0.9->selenium) (0.16.0)\n",
      "Requirement already satisfied: webdriver-manager in c:\\users\\sely.wakhidah\\appdata\\local\\anaconda3\\lib\\site-packages (4.0.2)\n",
      "Requirement already satisfied: requests in c:\\users\\sely.wakhidah\\appdata\\local\\anaconda3\\lib\\site-packages (from webdriver-manager) (2.31.0)\n",
      "Requirement already satisfied: python-dotenv in c:\\users\\sely.wakhidah\\appdata\\local\\anaconda3\\lib\\site-packages (from webdriver-manager) (1.1.0)\n",
      "Requirement already satisfied: packaging in c:\\users\\sely.wakhidah\\appdata\\local\\anaconda3\\lib\\site-packages (from webdriver-manager) (23.0)\n",
      "Requirement already satisfied: charset-normalizer<4,>=2 in c:\\users\\sely.wakhidah\\appdata\\local\\anaconda3\\lib\\site-packages (from requests->webdriver-manager) (2.0.4)\n",
      "Requirement already satisfied: idna<4,>=2.5 in c:\\users\\sely.wakhidah\\appdata\\local\\anaconda3\\lib\\site-packages (from requests->webdriver-manager) (3.4)\n",
      "Requirement already satisfied: urllib3<3,>=1.21.1 in c:\\users\\sely.wakhidah\\appdata\\local\\anaconda3\\lib\\site-packages (from requests->webdriver-manager) (1.26.16)\n",
      "Requirement already satisfied: certifi>=2017.4.17 in c:\\users\\sely.wakhidah\\appdata\\local\\anaconda3\\lib\\site-packages (from requests->webdriver-manager) (2023.7.22)\n"
     ]
    }
   ],
   "source": [
    "!pip install selenium\n",
    "!pip install webdriver-manager"
   ]
  },
  {
   "cell_type": "code",
   "execution_count": 8,
   "metadata": {},
   "outputs": [],
   "source": [
    "import pandas as pd\n",
    "import time\n",
    "#from datetime import date\n",
    "#from datetime import datetime as dt\n",
    "#import os\n",
    "#from pathlib import Path\n",
    "from selenium import webdriver\n",
    "#from webdriver_manager.chrome import ChromeDriverManager\n",
    "from selenium.webdriver.common.by import By\n",
    "from selenium.webdriver.support.ui import Select"
   ]
  },
  {
   "cell_type": "code",
   "execution_count": 9,
   "metadata": {},
   "outputs": [
    {
     "name": "stdout",
     "output_type": "stream",
     "text": [
      "Crawling Progress: 956/956 (100.00%)\r"
     ]
    }
   ],
   "source": [
    "#%%\n",
    "#Set Driver\n",
    "driver = webdriver.Chrome() #ChromeDriverManager().install())\n",
    "driver.get('https://idx.co.id/perusahaan-tercatat/profil-perusahaan-tercatat/')\n",
    "time.sleep(3)\n",
    "\n",
    "#Select visible row to All\n",
    "select = Select(driver.find_element(By.NAME, 'perPageSelect'))\n",
    "select.select_by_visible_text('All')\n",
    "time.sleep(3)\n",
    "\n",
    "#Create DF to store ticker data\n",
    "df_listticker = pd.DataFrame(columns=['No', 'Ticker', 'Nama', 'Tanggal Pencatatan'])\n",
    "\n",
    "#Get Row & Column           \n",
    "rows = len(driver.find_elements(By.XPATH, '//*[@id=\"vgt-table\"]/tbody/tr'))\n",
    "cols = len(driver.find_elements(By.XPATH, '//*[@id=\"vgt-table\"]/tbody/tr[1]/td'))\n",
    "\n",
    "#Get every cell value\n",
    "for i in range(1, rows+1):\n",
    "    list_row = [i]\n",
    "    for j in range(1, cols+1):\n",
    "        value = driver.find_element(By.XPATH, '//*[@id=\"vgt-table\"]/tbody/tr[' + str(i) + ']/td[' + str(j) + ']')\n",
    "\n",
    "        #Check if element is List or string\n",
    "        list_row.append(value.text)\n",
    "    df_listticker.loc[len(df_listticker)] = list_row\n",
    "\n",
    "    print(f\"Crawling Progress: {i}/{rows} ({(i/rows*100):.2f}%)\\r\", end='')\n",
    "\n",
    "driver.close()"
   ]
  },
  {
   "cell_type": "code",
   "execution_count": 10,
   "metadata": {},
   "outputs": [
    {
     "data": {
      "text/html": [
       "<div>\n",
       "<style scoped>\n",
       "    .dataframe tbody tr th:only-of-type {\n",
       "        vertical-align: middle;\n",
       "    }\n",
       "\n",
       "    .dataframe tbody tr th {\n",
       "        vertical-align: top;\n",
       "    }\n",
       "\n",
       "    .dataframe thead th {\n",
       "        text-align: right;\n",
       "    }\n",
       "</style>\n",
       "<table border=\"1\" class=\"dataframe\">\n",
       "  <thead>\n",
       "    <tr style=\"text-align: right;\">\n",
       "      <th></th>\n",
       "      <th>No</th>\n",
       "      <th>Ticker</th>\n",
       "      <th>Nama</th>\n",
       "      <th>Tanggal Pencatatan</th>\n",
       "    </tr>\n",
       "  </thead>\n",
       "  <tbody>\n",
       "    <tr>\n",
       "      <th>0</th>\n",
       "      <td>1</td>\n",
       "      <td>AADI</td>\n",
       "      <td>PT Adaro Andalan Indonesia Tbk</td>\n",
       "      <td>05 Des 2024</td>\n",
       "    </tr>\n",
       "    <tr>\n",
       "      <th>1</th>\n",
       "      <td>2</td>\n",
       "      <td>AALI</td>\n",
       "      <td>Astra Agro Lestari Tbk</td>\n",
       "      <td>09 Des 1997</td>\n",
       "    </tr>\n",
       "    <tr>\n",
       "      <th>2</th>\n",
       "      <td>3</td>\n",
       "      <td>ABBA</td>\n",
       "      <td>Mahaka Media Tbk</td>\n",
       "      <td>03 Apr 2002</td>\n",
       "    </tr>\n",
       "    <tr>\n",
       "      <th>3</th>\n",
       "      <td>4</td>\n",
       "      <td>ABDA</td>\n",
       "      <td>Asuransi Bina Dana Arta Tbk</td>\n",
       "      <td>06 Jul 1989</td>\n",
       "    </tr>\n",
       "    <tr>\n",
       "      <th>4</th>\n",
       "      <td>5</td>\n",
       "      <td>ABMM</td>\n",
       "      <td>ABM Investama Tbk</td>\n",
       "      <td>06 Des 2011</td>\n",
       "    </tr>\n",
       "  </tbody>\n",
       "</table>\n",
       "</div>"
      ],
      "text/plain": [
       "   No Ticker                            Nama Tanggal Pencatatan\n",
       "0   1   AADI  PT Adaro Andalan Indonesia Tbk        05 Des 2024\n",
       "1   2   AALI          Astra Agro Lestari Tbk        09 Des 1997\n",
       "2   3   ABBA                Mahaka Media Tbk        03 Apr 2002\n",
       "3   4   ABDA     Asuransi Bina Dana Arta Tbk        06 Jul 1989\n",
       "4   5   ABMM               ABM Investama Tbk        06 Des 2011"
      ]
     },
     "execution_count": 10,
     "metadata": {},
     "output_type": "execute_result"
    }
   ],
   "source": [
    "df_listticker.head()"
   ]
  },
  {
   "cell_type": "code",
   "execution_count": 22,
   "metadata": {},
   "outputs": [],
   "source": [
    "import os\n",
    "\n",
    "# Buat folder 'report' jika belum ada\n",
    "os.makedirs('report', exist_ok=True)\n",
    "\n",
    "# Ekstrak hanya kolom Ticker dan simpan\n",
    "df_ticker_only = df_listticker['Ticker']\n",
    "df_ticker_only.to_csv('report/ListSaham-07042025.csv', sep='|', index=False)\n",
    "\n",
    "# Export Raw Format Dataframe to CSV\n",
    "df_listticker.to_csv('report/ListPerusahaanIDX-22052025.csv', sep='|', index=False)\n"
   ]
  },
  {
   "cell_type": "code",
   "execution_count": 23,
   "metadata": {},
   "outputs": [],
   "source": [
    "data = pd.read_csv('C:/Users/sely.wakhidah/Downloads/archive (4)/report/ListPerusahaanIDX-22052025.csv',sep='|')"
   ]
  },
  {
   "cell_type": "code",
   "execution_count": 24,
   "metadata": {},
   "outputs": [
    {
     "data": {
      "text/html": [
       "<div>\n",
       "<style scoped>\n",
       "    .dataframe tbody tr th:only-of-type {\n",
       "        vertical-align: middle;\n",
       "    }\n",
       "\n",
       "    .dataframe tbody tr th {\n",
       "        vertical-align: top;\n",
       "    }\n",
       "\n",
       "    .dataframe thead th {\n",
       "        text-align: right;\n",
       "    }\n",
       "</style>\n",
       "<table border=\"1\" class=\"dataframe\">\n",
       "  <thead>\n",
       "    <tr style=\"text-align: right;\">\n",
       "      <th></th>\n",
       "      <th>No</th>\n",
       "      <th>Ticker</th>\n",
       "      <th>Nama</th>\n",
       "      <th>Tanggal Pencatatan</th>\n",
       "    </tr>\n",
       "  </thead>\n",
       "  <tbody>\n",
       "    <tr>\n",
       "      <th>0</th>\n",
       "      <td>1</td>\n",
       "      <td>AADI</td>\n",
       "      <td>PT Adaro Andalan Indonesia Tbk</td>\n",
       "      <td>05 Des 2024</td>\n",
       "    </tr>\n",
       "    <tr>\n",
       "      <th>1</th>\n",
       "      <td>2</td>\n",
       "      <td>AALI</td>\n",
       "      <td>Astra Agro Lestari Tbk</td>\n",
       "      <td>09 Des 1997</td>\n",
       "    </tr>\n",
       "    <tr>\n",
       "      <th>2</th>\n",
       "      <td>3</td>\n",
       "      <td>ABBA</td>\n",
       "      <td>Mahaka Media Tbk</td>\n",
       "      <td>03 Apr 2002</td>\n",
       "    </tr>\n",
       "    <tr>\n",
       "      <th>3</th>\n",
       "      <td>4</td>\n",
       "      <td>ABDA</td>\n",
       "      <td>Asuransi Bina Dana Arta Tbk</td>\n",
       "      <td>06 Jul 1989</td>\n",
       "    </tr>\n",
       "    <tr>\n",
       "      <th>4</th>\n",
       "      <td>5</td>\n",
       "      <td>ABMM</td>\n",
       "      <td>ABM Investama Tbk</td>\n",
       "      <td>06 Des 2011</td>\n",
       "    </tr>\n",
       "  </tbody>\n",
       "</table>\n",
       "</div>"
      ],
      "text/plain": [
       "   No Ticker                            Nama Tanggal Pencatatan\n",
       "0   1   AADI  PT Adaro Andalan Indonesia Tbk        05 Des 2024\n",
       "1   2   AALI          Astra Agro Lestari Tbk        09 Des 1997\n",
       "2   3   ABBA                Mahaka Media Tbk        03 Apr 2002\n",
       "3   4   ABDA     Asuransi Bina Dana Arta Tbk        06 Jul 1989\n",
       "4   5   ABMM               ABM Investama Tbk        06 Des 2011"
      ]
     },
     "execution_count": 24,
     "metadata": {},
     "output_type": "execute_result"
    }
   ],
   "source": [
    "data.head()"
   ]
  }
 ],
 "metadata": {
  "kernelspec": {
   "display_name": "Python 3 (ipykernel)",
   "language": "python",
   "name": "python3"
  },
  "language_info": {
   "codemirror_mode": {
    "name": "ipython",
    "version": 3
   },
   "file_extension": ".py",
   "mimetype": "text/x-python",
   "name": "python",
   "nbconvert_exporter": "python",
   "pygments_lexer": "ipython3",
   "version": "3.11.4"
  }
 },
 "nbformat": 4,
 "nbformat_minor": 2
}
